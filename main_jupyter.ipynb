{
 "cells": [
  {
   "cell_type": "code",
   "execution_count": 7,
   "metadata": {},
   "outputs": [
    {
     "name": "stdout",
     "output_type": "stream",
     "text": [
      "<Response [200]>\n"
     ]
    },
    {
     "data": {
      "text/html": [
       "<div>\n",
       "<style scoped>\n",
       "    .dataframe tbody tr th:only-of-type {\n",
       "        vertical-align: middle;\n",
       "    }\n",
       "\n",
       "    .dataframe tbody tr th {\n",
       "        vertical-align: top;\n",
       "    }\n",
       "\n",
       "    .dataframe thead th {\n",
       "        text-align: right;\n",
       "    }\n",
       "</style>\n",
       "<table border=\"1\" class=\"dataframe\">\n",
       "  <thead>\n",
       "    <tr style=\"text-align: right;\">\n",
       "      <th></th>\n",
       "      <th>cep</th>\n",
       "      <th>logradouro</th>\n",
       "      <th>complemento</th>\n",
       "      <th>bairro</th>\n",
       "      <th>localidade</th>\n",
       "      <th>uf</th>\n",
       "      <th>ibge</th>\n",
       "      <th>gia</th>\n",
       "      <th>ddd</th>\n",
       "      <th>siafi</th>\n",
       "    </tr>\n",
       "  </thead>\n",
       "  <tbody>\n",
       "    <tr>\n",
       "      <th>0</th>\n",
       "      <td>79092-530</td>\n",
       "      <td>Rua Mona Lisa</td>\n",
       "      <td>até 328/329</td>\n",
       "      <td>Jardim Tijuca</td>\n",
       "      <td>Campo Grande</td>\n",
       "      <td>MS</td>\n",
       "      <td>5002704</td>\n",
       "      <td></td>\n",
       "      <td>67</td>\n",
       "      <td>9051</td>\n",
       "    </tr>\n",
       "    <tr>\n",
       "      <th>1</th>\n",
       "      <td>79094-550</td>\n",
       "      <td>Rua Mona Lisa</td>\n",
       "      <td>de 330/331 ao fim</td>\n",
       "      <td>Jardim Tijuca</td>\n",
       "      <td>Campo Grande</td>\n",
       "      <td>MS</td>\n",
       "      <td>5002704</td>\n",
       "      <td></td>\n",
       "      <td>67</td>\n",
       "      <td>9051</td>\n",
       "    </tr>\n",
       "  </tbody>\n",
       "</table>\n",
       "</div>"
      ],
      "text/plain": [
       "         cep     logradouro        complemento         bairro    localidade  \\\n",
       "0  79092-530  Rua Mona Lisa        até 328/329  Jardim Tijuca  Campo Grande   \n",
       "1  79094-550  Rua Mona Lisa  de 330/331 ao fim  Jardim Tijuca  Campo Grande   \n",
       "\n",
       "   uf     ibge gia ddd siafi  \n",
       "0  MS  5002704      67  9051  \n",
       "1  MS  5002704      67  9051  "
      ]
     },
     "metadata": {},
     "output_type": "display_data"
    }
   ],
   "source": [
    "import pandas as pd\n",
    "import requests\n",
    "\n",
    "# Busca de cep a partir do endereço\n",
    "uf = \"MS\"\n",
    "cidade = \"Campo Grande\"\n",
    "endereco = \"Rua Mona Lisa\"\n",
    "\n",
    "link = f'https://viacep.com.br/ws/{uf}/{cidade}/{endereco}/json/'\n",
    "\n",
    "requisicao = requests.get(link)\n",
    "print(requisicao)\n",
    "\n",
    "lista_requisicao = requisicao.json()\n",
    "# imprimir todos os CEPs\n",
    "#print(lista_requisicao)\n",
    "#dic_logradouro = lista_requisicao[0]\n",
    "#print(f'CEP: {dic_logradouro[\"cep\"]}')\n",
    "# Para usar com o jupyter(Abre em formato de planilha)\n",
    "tabela = pd.DataFrame(lista_requisicao)\n",
    "display(tabela)\n"
   ]
  },
  {
   "cell_type": "markdown",
   "metadata": {},
   "source": []
  },
  {
   "cell_type": "code",
   "execution_count": null,
   "metadata": {},
   "outputs": [],
   "source": []
  }
 ],
 "metadata": {
  "kernelspec": {
   "display_name": "Python 3.10.4 ('.venv': venv)",
   "language": "python",
   "name": "python3"
  },
  "language_info": {
   "codemirror_mode": {
    "name": "ipython",
    "version": 3
   },
   "file_extension": ".py",
   "mimetype": "text/x-python",
   "name": "python",
   "nbconvert_exporter": "python",
   "pygments_lexer": "ipython3",
   "version": "3.10.4"
  },
  "orig_nbformat": 4,
  "vscode": {
   "interpreter": {
    "hash": "2d229fee2fd46f48903067f2cc8d56080a6b47b9c63816c7705f0d8ae08d655f"
   }
  }
 },
 "nbformat": 4,
 "nbformat_minor": 2
}
